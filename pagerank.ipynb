{
  "nbformat": 4,
  "nbformat_minor": 0,
  "metadata": {
    "colab": {
      "name": "pagerank.ipynb",
      "provenance": [],
      "authorship_tag": "ABX9TyMTloZcK/rzE384aqMKkGf/",
      "include_colab_link": true
    },
    "kernelspec": {
      "name": "python3",
      "display_name": "Python 3"
    },
    "language_info": {
      "name": "python"
    }
  },
  "cells": [
    {
      "cell_type": "markdown",
      "metadata": {
        "id": "view-in-github",
        "colab_type": "text"
      },
      "source": [
        "<a href=\"https://colab.research.google.com/github/masatomo-ty/power_flow_calc/blob/master/pagerank.ipynb\" target=\"_parent\"><img src=\"https://colab.research.google.com/assets/colab-badge.svg\" alt=\"Open In Colab\"/></a>"
      ]
    },
    {
      "cell_type": "code",
      "execution_count": 15,
      "metadata": {
        "colab": {
          "base_uri": "https://localhost:8080/"
        },
        "id": "fOICH53CWa3c",
        "outputId": "d7a64910-14d4-4174-90fd-5aee3b7f251b"
      },
      "outputs": [
        {
          "output_type": "stream",
          "name": "stdout",
          "text": [
            "[[0.075      0.425      0.425      0.075     ]\n",
            " [0.425      0.075      0.075      0.425     ]\n",
            " [0.425      0.425      0.075      0.075     ]\n",
            " [0.30833333 0.30833333 0.30833333 0.075     ]]\n",
            "[0.25 0.25 0.25 0.25]\n",
            "[0.30833333 0.30833333 0.22083333 0.1625    ]\n",
            "[0.29928101 0.29928101 0.22168963 0.17974835]\n",
            "[0.29928101 0.29928101 0.22168963 0.17974835]\n",
            "[0.29928101 0.29928101 0.22168963 0.17974835]\n",
            "[0.29928101 0.29928101 0.22168963 0.17974835]\n",
            "[0.29928101 0.29928101 0.22168963 0.17974835]\n",
            "[0.29928101 0.29928101 0.22168963 0.17974835]\n",
            "[0.29928101 0.29928101 0.22168963 0.17974835]\n",
            "[0.29928101 0.29928101 0.22168963 0.17974835]\n",
            "[0.29928101 0.29928101 0.22168963 0.17974835]\n"
          ]
        }
      ],
      "source": [
        "import numpy as np\n",
        "\n",
        "x = np.array([\n",
        "[0, 0.5, 0.5, 0],\n",
        "[0.5, 0, 0, 0.5],\n",
        "[0.5, 0.5, 0, 0],\n",
        "[1/3, 1/3, 1/3, 0]],\n",
        "dtype=float)\n",
        "\n",
        "M_NUM = len(x)\n",
        "\n",
        "alpha = 0.7\n",
        "G = alpha * x + (1 - alpha) * np.ones((M_NUM,M_NUM)) / M_NUM\n",
        "print(G)\n",
        "\n",
        "rank = np.array([1 for i in range(M_NUM)]) / M_NUM\n",
        "print(rank)\n",
        "\n",
        "for i in range(1000):\n",
        "    rank = np.dot(rank,G)\n",
        "    if i % 100 ==0:\n",
        "        print(rank)\n",
        "\n",
        "# print(np.round(rank * pagerank/rank[pagenum - 1],2))"
      ]
    },
    {
      "cell_type": "code",
      "source": [
        "import numpy as np\n",
        "\n",
        "x = np.array([\n",
        "[0, 3, 1],\n",
        "[2, 4, 1],\n",
        "[0, 0, 9]],\n",
        "dtype=float)\n",
        "\n",
        "print(x)\n",
        "print(x.T)\n",
        "print(x.T.sum(axis=0))\n",
        "print(x.T/x.T.sum(axis=0))"
      ],
      "metadata": {
        "colab": {
          "base_uri": "https://localhost:8080/"
        },
        "id": "Zl5dLgciXp-N",
        "outputId": "13b85d03-ff2d-4e6c-9e14-ec58eafd45f3"
      },
      "execution_count": null,
      "outputs": [
        {
          "output_type": "stream",
          "name": "stdout",
          "text": [
            "[[0. 3. 1.]\n",
            " [2. 4. 1.]\n",
            " [0. 0. 9.]]\n",
            "[[0. 2. 0.]\n",
            " [3. 4. 0.]\n",
            " [1. 1. 9.]]\n",
            "[4. 7. 9.]\n",
            "[[0.         0.28571429 0.        ]\n",
            " [0.75       0.57142857 0.        ]\n",
            " [0.25       0.14285714 1.        ]]\n"
          ]
        }
      ]
    }
  ]
}